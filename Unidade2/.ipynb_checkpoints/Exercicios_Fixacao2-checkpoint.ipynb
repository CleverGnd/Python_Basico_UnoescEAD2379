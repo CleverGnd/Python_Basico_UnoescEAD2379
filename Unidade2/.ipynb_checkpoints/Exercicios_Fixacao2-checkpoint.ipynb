{
 "cells": [
  {
   "cell_type": "markdown",
   "metadata": {},
   "source": [
    "## Unidade 2 - Introdução ao Phyton\n",
    "## Exercícios de Fixação\n",
    "Aluno: Cleverson Guandalin\n",
    "\n",
    "### Exercícios sobre Estruturas de Controle de Decisão\n",
    "Disponiveis em: https://wiki.python.org.br/EstruturaDeDecisao"
   ]
  },
  {
   "cell_type": "markdown",
   "metadata": {},
   "source": [
    "16 - Faça um programa que calcule as raízes de uma equação do segundo grau, na forma ax2 + bx + c. O programa deverá pedir os valores de a, b e c e fazer as consistências, informando ao usuário nas seguintes situações:\n",
    "\n",
    "    a) Se o usuário informar o valor de A igual a zero, a equação não é do segundo grau e o programa não deve fazer pedir os demais valores, sendo encerrado;\n",
    "    b) Se o delta calculado for negativo, a equação não possui raizes reais. Informe ao usuário e encerre o programa;\n",
    "    c) Se o delta calculado for igual a zero a equação possui apenas uma raiz real; informe-a ao usuário;\n",
    "    d) Se o delta for positivo, a equação possui duas raiz reais; informe-as ao usuário; "
   ]
  },
  {
   "cell_type": "code",
   "execution_count": 3,
   "metadata": {},
   "outputs": [
    {
     "name": "stdout",
     "output_type": "stream",
     "text": [
      "Digite o valor de a: 10\n",
      "Digite o valor de b: 12\n",
      "Digite o valor de c: 2\n",
      "A equação possui duas raízes reais:  -0.2  e  -1.0\n"
     ]
    }
   ],
   "source": [
    "# pede os valores de a, b e c ao usuário\n",
    "a = float(input(\"Digite o valor de a: \"))\n",
    "b = float(input(\"Digite o valor de b: \"))\n",
    "c = float(input(\"Digite o valor de c: \"))\n",
    "\n",
    "# verifica se a é diferente de zero, pois se for, não é uma equação do segundo grau\n",
    "if a == 0:\n",
    "    print(\"Não é uma equação do segundo grau!\")\n",
    "else:\n",
    "    # calcula o delta da equação\n",
    "    delta = b**2 - 4*a*c\n",
    "\n",
    "    # verifica se o delta é negativo, pois neste caso a equação não possui raízes reais\n",
    "    if delta < 0:\n",
    "        print(\"A equação não possui raízes reais!\")\n",
    "    # verifica se o delta é igual a zero, pois neste caso a equação possui apenas uma raiz real\n",
    "    elif delta == 0:\n",
    "        x = (-b + (delta ** 0.5)) / (2*a)\n",
    "        print(\"A equação possui apenas uma raiz real: \", x)\n",
    "    # se o delta for positivo, a equação possui duas raízes reais\n",
    "    else:\n",
    "        x1 = (-b + (delta ** 0.5)) / (2*a)\n",
    "        x2 = (-b - (delta ** 0.5)) / (2*a)\n",
    "        print(\"A equação possui duas raízes reais: \", x1, \" e \", x2)"
   ]
  },
  {
   "cell_type": "markdown",
   "metadata": {},
   "source": [
    "17 - Faça um Programa que peça um número correspondente a um determinado ano e em seguida informe se este ano é ou não bissexto."
   ]
  },
  {
   "cell_type": "code",
   "execution_count": 5,
   "metadata": {},
   "outputs": [
    {
     "name": "stdout",
     "output_type": "stream",
     "text": [
      "Digite um ano: 2024\n",
      "2024  é um ano bissexto!\n"
     ]
    }
   ],
   "source": [
    "# pede ao usuário para digitar um ano\n",
    "ano = int(input(\"Digite um ano: \"))\n",
    "\n",
    "# verifica se o ano é bissexto\n",
    "if (ano % 4 == 0 and ano % 100 != 0) or ano % 400 == 0:\n",
    "    print(ano, \" é um ano bissexto!\")\n",
    "else:\n",
    "    print(ano, \" não é um ano bissexto!\")"
   ]
  },
  {
   "cell_type": "markdown",
   "metadata": {},
   "source": [
    "18 - Faça um Programa que peça uma data no formato dd/mm/aaaa e determine se a mesma é uma data válida."
   ]
  },
  {
   "cell_type": "code",
   "execution_count": 6,
   "metadata": {},
   "outputs": [
    {
     "name": "stdout",
     "output_type": "stream",
     "text": [
      "Digite uma data no formato dd/mm/aaaa: 30/06/1985\n",
      "Data válida!\n"
     ]
    }
   ],
   "source": [
    "# pede ao usuário para digitar uma data no formato dd/mm/aaaa\n",
    "data = input(\"Digite uma data no formato dd/mm/aaaa: \")\n",
    "\n",
    "# verifica se a data tem o formato correto (dd/mm/aaaa)\n",
    "if len(data) != 10 or data[2] != \"/\" or data[5] != \"/\":\n",
    "    print(\"Data inválida!\")\n",
    "else:\n",
    "    # extrai o dia, mês e ano da data\n",
    "    dia = int(data[:2])\n",
    "    mes = int(data[3:5])\n",
    "    ano = int(data[6:])\n",
    "\n",
    "    # verifica se o dia e o mês são válidos\n",
    "    if dia < 1 or mes < 1 or mes > 12:\n",
    "        print(\"Data inválida!\")\n",
    "    elif mes == 2:\n",
    "        if dia > 29 or (dia == 29 and not (ano % 4 == 0 and ano % 100 != 0) or ano % 400 == 0):\n",
    "            print(\"Data inválida!\")\n",
    "        else:\n",
    "            print(\"Data válida!\")\n",
    "    elif mes in [4, 6, 9, 11]:\n",
    "        if dia > 30:\n",
    "            print(\"Data inválida!\")\n",
    "        else:\n",
    "            print(\"Data válida!\")\n",
    "    else:\n",
    "        if dia > 31:\n",
    "            print(\"Data inválida!\")\n",
    "        else:\n",
    "            print(\"Data válida!\")"
   ]
  },
  {
   "cell_type": "markdown",
   "metadata": {},
   "source": [
    "19 - Faça um Programa que leia um número inteiro menor que 1000 e imprima a quantidade de centenas, dezenas e unidades do mesmo.\n",
    "\n",
    "    Observando os termos no plural a colocação do \"e\", da vírgula entre outros. Exemplo:\n",
    "    326 = 3 centenas, 2 dezenas e 6 unidades\n",
    "    12 = 1 dezena e 2 unidades Testar com: 326, 300, 100, 320, 310,305, 301, 101, 311, 111, 25, 20, 10, 21, 11, 1, 7 e 16 \n",
    "\n"
   ]
  },
  {
   "cell_type": "code",
   "execution_count": 7,
   "metadata": {},
   "outputs": [
    {
     "name": "stdout",
     "output_type": "stream",
     "text": [
      "Digite um número inteiro menor que 1000: 850\n",
      "8 centenas e 5 dezenas"
     ]
    }
   ],
   "source": [
    "numero = int(input(\"Digite um número inteiro menor que 1000: \"))\n",
    "\n",
    "if numero >= 1000:\n",
    "    print(\"Número inválido!\")\n",
    "else:\n",
    "    # Separação das centenas, dezenas e unidades utilizando operações matemáticas\n",
    "    centenas = numero // 100\n",
    "    dezenas = (numero % 100) // 10\n",
    "    unidades = (numero % 100) % 10\n",
    "\n",
    "    # Verificações para imprimir corretamente as palavras no plural ou singular\n",
    "    if centenas == 1:\n",
    "        print(f\"{centenas} centena\", end=\"\")\n",
    "    elif centenas > 1:\n",
    "        print(f\"{centenas} centenas\", end=\"\")\n",
    "\n",
    "    if centenas > 0 and (dezenas > 0 or unidades > 0):\n",
    "        print(\" e \", end=\"\")\n",
    "\n",
    "    if dezenas == 1:\n",
    "        print(f\"{dezenas} dezena\", end=\"\")\n",
    "    elif dezenas > 1:\n",
    "        print(f\"{dezenas} dezenas\", end=\"\")\n",
    "\n",
    "    if dezenas > 0 and unidades > 0:\n",
    "        print(\" e \", end=\"\")\n",
    "\n",
    "    if unidades == 1:\n",
    "        print(f\"{unidades} unidade\", end=\"\")\n",
    "    elif unidades > 1:\n",
    "        print(f\"{unidades} unidades\", end=\"\")"
   ]
  },
  {
   "cell_type": "markdown",
   "metadata": {},
   "source": [
    "20 - Faça um Programa para leitura de três notas parciais de um aluno. O programa deve calcular a média alcançada por aluno e presentar:\n",
    "\n",
    "    a) A mensagem \"Aprovado\", se a média for maior ou igual a 7, com a respectiva média alcançada;\n",
    "    b) A mensagem \"Reprovado\", se a média for menor do que 7, com a respectiva média alcançada;\n",
    "    c) A mensagem \"Aprovado com Distinção\", se a média for igual a 10."
   ]
  },
  {
   "cell_type": "code",
   "execution_count": 8,
   "metadata": {},
   "outputs": [
    {
     "name": "stdout",
     "output_type": "stream",
     "text": [
      "Digite a primeira nota: 7\n",
      "Digite a segunda nota: 8\n",
      "Digite a terceira nota: 10\n",
      "Aprovado. Média: 8.33\n"
     ]
    }
   ],
   "source": [
    "# Leitura das notas\n",
    "nota1 = float(input(\"Digite a primeira nota: \"))\n",
    "nota2 = float(input(\"Digite a segunda nota: \"))\n",
    "nota3 = float(input(\"Digite a terceira nota: \"))\n",
    "\n",
    "# Cálculo da média\n",
    "media = (nota1 + nota2 + nota3) / 3\n",
    "\n",
    "# Verificação das condições de aprovação\n",
    "if media == 10:\n",
    "    print(f\"Aprovado com Distinção. Média: {media:.2f}\")\n",
    "elif media >= 7:\n",
    "    print(f\"Aprovado. Média: {media:.2f}\")\n",
    "else:\n",
    "    print(f\"Reprovado. Média: {media:.2f}\")"
   ]
  },
  {
   "cell_type": "markdown",
   "metadata": {},
   "source": [
    "### Exercícios sobre Estruturas de Repetição\n",
    "Disponiveis em: https://wiki.python.org.br/EstruturaDeRepeticao"
   ]
  },
  {
   "cell_type": "markdown",
   "metadata": {},
   "source": [
    "10 - Faça um programa que receba dois números inteiros e gere os números inteiros que estão no intervalo compreendido por eles.\n"
   ]
  },
  {
   "cell_type": "code",
   "execution_count": 10,
   "metadata": {},
   "outputs": [
    {
     "name": "stdout",
     "output_type": "stream",
     "text": [
      "Digite o primeiro número: 20\n",
      "Digite o segundo número: 50\n",
      "21 22 23 24 25 26 27 28 29 30 31 32 33 34 35 36 37 38 39 40 41 42 43 44 45 46 47 48 49 "
     ]
    }
   ],
   "source": [
    "# recebendo os números do usuário\n",
    "num1 = int(input(\"Digite o primeiro número: \"))\n",
    "num2 = int(input(\"Digite o segundo número: \"))\n",
    "\n",
    "# verificando qual é o menor e o maior número\n",
    "if num1 < num2:\n",
    "    menor = num1\n",
    "    maior = num2\n",
    "else:\n",
    "    menor = num2\n",
    "    maior = num1\n",
    "\n",
    "# percorrendo o intervalo entre os números e imprimindo-os\n",
    "for i in range(menor+1, maior):\n",
    "    print(i, end=' ')"
   ]
  },
  {
   "cell_type": "markdown",
   "metadata": {},
   "source": [
    "11 - Altere o programa anterior para mostrar no final a soma dos números.\n",
    "\n"
   ]
  },
  {
   "cell_type": "code",
   "execution_count": 11,
   "metadata": {},
   "outputs": [
    {
     "name": "stdout",
     "output_type": "stream",
     "text": [
      "Digite o primeiro número: 10\n",
      "Digite o segundo número: 20\n",
      "11 12 13 14 15 16 17 18 19 \n",
      "A soma dos números é: 135\n"
     ]
    }
   ],
   "source": [
    "# recebendo os números do usuário\n",
    "num1 = int(input(\"Digite o primeiro número: \"))\n",
    "num2 = int(input(\"Digite o segundo número: \"))\n",
    "\n",
    "# verificando qual é o menor e o maior número\n",
    "if num1 < num2:\n",
    "    menor = num1\n",
    "    maior = num2\n",
    "else:\n",
    "    menor = num2\n",
    "    maior = num1\n",
    "\n",
    "soma = 0  # variável para armazenar a soma dos números\n",
    "\n",
    "# percorrendo o intervalo entre os números e imprimindo-os\n",
    "for i in range(menor+1, maior):\n",
    "    print(i, end=' ')\n",
    "    soma += i\n",
    "\n",
    "print(\"\\nA soma dos números é:\", soma)"
   ]
  },
  {
   "cell_type": "markdown",
   "metadata": {},
   "source": [
    "12 - Desenvolva um gerador de tabuada, capaz de gerar a tabuada de qualquer número inteiro entre 1 a 10. O usuário deve informar de qual numero ele deseja ver a tabuada. A saída deve ser conforme o exemplo abaixo:\n",
    "\n",
    "    Tabuada de 5:\n",
    "    5 X 1 = 5\n",
    "    5 X 2 = 10\n",
    "    ...\n",
    "    5 X 10 = 50\n",
    "\n",
    "\n"
   ]
  },
  {
   "cell_type": "code",
   "execution_count": 12,
   "metadata": {},
   "outputs": [
    {
     "name": "stdout",
     "output_type": "stream",
     "text": [
      "Digite um número para ver a sua tabuada: 6\n",
      "Tabuada de 6 :\n",
      "6 X 1 = 6\n",
      "6 X 2 = 12\n",
      "6 X 3 = 18\n",
      "6 X 4 = 24\n",
      "6 X 5 = 30\n",
      "6 X 6 = 36\n",
      "6 X 7 = 42\n",
      "6 X 8 = 48\n",
      "6 X 9 = 54\n",
      "6 X 10 = 60\n"
     ]
    }
   ],
   "source": [
    "# Recebendo o número da tabuada do usuário\n",
    "num = int(input(\"Digite um número para ver a sua tabuada: \"))\n",
    "\n",
    "print(\"Tabuada de\", num, \":\")\n",
    "\n",
    "# Percorrendo os números de 1 a 10 e imprimindo a tabuada\n",
    "for i in range(1, 11):\n",
    "    print(num, \"X\", i, \"=\", num*i)"
   ]
  },
  {
   "cell_type": "markdown",
   "metadata": {},
   "source": [
    "13 - Faça um programa que peça dois números, base e expoente, calcule e mostre o primeiro número elevado ao segundo número. Não utilize a função de potência da linguagem.\n"
   ]
  },
  {
   "cell_type": "code",
   "execution_count": 13,
   "metadata": {},
   "outputs": [
    {
     "name": "stdout",
     "output_type": "stream",
     "text": [
      "Digite a base: 2\n",
      "Digite o expoente: 4\n",
      "2 elevado a 4 é igual a 16\n"
     ]
    }
   ],
   "source": [
    "# Pede ao usuário para informar os números\n",
    "base = int(input(\"Digite a base: \"))\n",
    "expoente = int(input(\"Digite o expoente: \"))\n",
    "\n",
    "# Inicializa o resultado como 1\n",
    "resultado = 1\n",
    "\n",
    "# Calcula a potência usando um laço de repetição\n",
    "for i in range(expoente):\n",
    "    resultado *= base\n",
    "\n",
    "# Exibe o resultado\n",
    "print(f\"{base} elevado a {expoente} é igual a {resultado}\")"
   ]
  },
  {
   "cell_type": "markdown",
   "metadata": {},
   "source": [
    "14 - Faça um programa que peça 10 números inteiros, calcule e mostre a quantidade de números pares e a quantidade de números impares.\n"
   ]
  },
  {
   "cell_type": "code",
   "execution_count": 14,
   "metadata": {},
   "outputs": [
    {
     "name": "stdout",
     "output_type": "stream",
     "text": [
      "Digite o 1º número: 2\n",
      "Digite o 2º número: 4\n",
      "Digite o 3º número: 5\n",
      "Digite o 4º número: 7\n",
      "Digite o 5º número: 8\n",
      "Digite o 6º número: 9\n",
      "Digite o 7º número: 10\n",
      "Digite o 8º número: 11\n",
      "Digite o 9º número: 15\n",
      "Digite o 10º número: 12\n",
      "Foram informados 5 números pares e 5 números ímpares.\n"
     ]
    }
   ],
   "source": [
    "# Inicializa as variáveis que contarão a quantidade de números pares e ímpares\n",
    "qtd_pares = 0\n",
    "qtd_impares = 0\n",
    "\n",
    "# Pede ao usuário para informar os números\n",
    "for i in range(10):\n",
    "    num = int(input(f\"Digite o {i+1}º número: \"))\n",
    "\n",
    "    # verifica se o número é par ou ímpar e incrementa a variável correspondente\n",
    "    if num % 2 == 0:\n",
    "        qtd_pares += 1\n",
    "    else:\n",
    "        qtd_impares += 1\n",
    "\n",
    "# Exibe o resultado\n",
    "print(f\"Foram informados {qtd_pares} números pares e {qtd_impares} números ímpares.\")"
   ]
  },
  {
   "cell_type": "markdown",
   "metadata": {},
   "source": [
    "15 - A série de Fibonacci é formada pela seqüência 1,1,2,3,5,8,13,21,34,55,... Faça um programa capaz de gerar a série até o n−ésimo termo. "
   ]
  },
  {
   "cell_type": "code",
   "execution_count": 17,
   "metadata": {},
   "outputs": [
    {
     "name": "stdout",
     "output_type": "stream",
     "text": [
      "Digite o número de termos da sequência de Fibonacci: 20\n",
      "1\n",
      "1\n",
      "2\n",
      "3\n",
      "5\n",
      "8\n",
      "13\n",
      "21\n",
      "34\n",
      "55\n",
      "89\n",
      "144\n",
      "233\n",
      "377\n",
      "610\n",
      "987\n",
      "1597\n",
      "2584\n",
      "4181\n",
      "6765\n"
     ]
    }
   ],
   "source": [
    "# Pede ao usuário para informar o número de termos da sequência de Fibonacci\n",
    "n = int(input(\"Digite o número de termos da sequência de Fibonacci: \"))\n",
    "\n",
    "# Inicializa os dois primeiros termos da sequência\n",
    "fibonacci_anterior = 1\n",
    "fibonacci_atual = 1\n",
    "\n",
    "# Exibe os dois primeiros termos da sequência\n",
    "print(fibonacci_anterior)\n",
    "print(fibonacci_atual)\n",
    "\n",
    "# Calcula os demais termos da sequência usando um laço de repetição\n",
    "for i in range(2, n):\n",
    "    fibonacci_proximo = fibonacci_anterior + fibonacci_atual\n",
    "    fibonacci_anterior = fibonacci_atual\n",
    "    fibonacci_atual = fibonacci_proximo\n",
    "    print(fibonacci_atual)"
   ]
  },
  {
   "cell_type": "markdown",
   "metadata": {},
   "source": [
    "### Exercícios sobre Funções\n",
    "Disponiveis em: https://wiki.python.org.br/ExerciciosFuncoes"
   ]
  },
  {
   "cell_type": "markdown",
   "metadata": {},
   "source": [
    "10 - Jogo de Craps. Faça um programa de implemente um jogo de Craps. O jogador lança um par de dados, obtendo um valor entre 2 e 12. Se, na primeira jogada, você tirar 7 ou 11, você um \"natural\" e ganhou. Se você tirar 2, 3 ou 12 na primeira jogada, isto é chamado de \"craps\" e você perdeu. Se, na primeira jogada, você fez um 4, 5, 6, 8, 9 ou 10,este é seu \"Ponto\". Seu objetivo agora é continuar jogando os dados até tirar este número novamente. Você perde, no entanto, se tirar um 7 antes de tirar este Ponto novamente.\n"
   ]
  },
  {
   "cell_type": "code",
   "execution_count": 18,
   "metadata": {},
   "outputs": [
    {
     "name": "stdout",
     "output_type": "stream",
     "text": [
      "Seu ponto é 6. Jogue os dados novamente até tirar 6 ou 7.\n",
      "Você tirou 5.\n",
      "Você tirou 2.\n",
      "Você tirou 6.\n",
      "Você tirou 6 novamente! Você ganhou!\n"
     ]
    }
   ],
   "source": [
    "import random\n",
    "\n",
    "def craps():\n",
    "    # Jogada inicial\n",
    "    jogada = sum(random.randint(1, 6) for _ in range(2))\n",
    "    \n",
    "    if jogada in (7, 11):\n",
    "        print(f\"Você tirou {jogada}, um natural! Você ganhou!\")\n",
    "    elif jogada in (2, 3, 12):\n",
    "        print(f\"Você tirou {jogada}, craps! Você perdeu.\")\n",
    "    else:\n",
    "        print(f\"Seu ponto é {jogada}. Jogue os dados novamente até tirar {jogada} ou 7.\")\n",
    "        \n",
    "        # continuar jogando até ganhar ou perder\n",
    "        while True:\n",
    "            nova_jogada = sum(random.randint(1, 6) for _ in range(2))\n",
    "            print(f\"Você tirou {nova_jogada}.\")\n",
    "            \n",
    "            if nova_jogada == jogada:\n",
    "                print(f\"Você tirou {jogada} novamente! Você ganhou!\")\n",
    "                break\n",
    "            elif nova_jogada == 7:\n",
    "                print(\"Você tirou 7 antes de tirar seu ponto novamente. Você perdeu.\")\n",
    "                break\n",
    "\n",
    "craps()"
   ]
  },
  {
   "cell_type": "markdown",
   "metadata": {},
   "source": [
    "11 - Data com mês por extenso. Construa uma função que receba uma data no formato DD/MM/AAAA e devolva uma string no formato D de mesPorExtenso de AAAA. Opcionalmente, valide a data e retorne NULL caso a data seja inválida.\n",
    "\n"
   ]
  },
  {
   "cell_type": "code",
   "execution_count": 19,
   "metadata": {},
   "outputs": [
    {
     "name": "stdout",
     "output_type": "stream",
     "text": [
      "31 de December de 2022\n",
      "None\n"
     ]
    }
   ],
   "source": [
    "from datetime import datetime\n",
    "\n",
    "def data_por_extenso(data):\n",
    "    try:\n",
    "        data_objeto = datetime.strptime(data, '%d/%m/%Y')\n",
    "        mes_extenso = data_objeto.strftime('%B') # obtém o mês por extenso\n",
    "        return f\"{data_objeto.day} de {mes_extenso} de {data_objeto.year}\"\n",
    "    except ValueError:\n",
    "        return None # retorna None se a data é inválida\n",
    "\n",
    "print(data_por_extenso('31/12/2022')) # imprime \"31 de December de 2022\"\n",
    "print(data_por_extenso('32/12/2022')) # imprime \"None\""
   ]
  },
  {
   "cell_type": "markdown",
   "metadata": {},
   "source": [
    "12 - Embaralha palavra. Construa uma função que receba uma string como parâmetro e devolva outra string com os carateres embaralhados. Por exemplo: se função receber a palavra python, pode retornar npthyo, ophtyn ou qualquer outra combinação possível, de forma aleatória. Padronize em sua função que todos os caracteres serão devolvidos em caixa alta ou caixa baixa, independentemente de como foram digitados.\n"
   ]
  },
  {
   "cell_type": "code",
   "execution_count": 21,
   "metadata": {},
   "outputs": [
    {
     "name": "stdout",
     "output_type": "stream",
     "text": [
      "yhpnot\n"
     ]
    }
   ],
   "source": [
    "import random\n",
    "\n",
    "def embaralha_palavra(palavra):\n",
    "    \"\"\"Embaralha os caracteres de uma palavra e retorna uma nova string.\"\"\"\n",
    "    # Converte a palavra para caixa baixa\n",
    "    palavra = palavra.lower()\n",
    "    # Converte a palavra para uma lista de caracteres\n",
    "    caracteres = list(palavra)\n",
    "    # Embaralha a lista de caracteres\n",
    "    random.shuffle(caracteres)\n",
    "    # Retorna a lista de caracteres como uma string\n",
    "    return ''.join(caracteres)\n",
    "\n",
    "# Exemplo de uso\n",
    "palavra = 'Python'\n",
    "palavra_embaralhada = embaralha_palavra(palavra)\n",
    "print(palavra_embaralhada)"
   ]
  },
  {
   "cell_type": "markdown",
   "metadata": {},
   "source": [
    "\n",
    "13 - Desenha moldura. Construa uma função que desenhe um retângulo usando os caracteres ‘+’ , ‘−’ e ‘| ‘. Esta função deve receber dois parâmetros, linhas e colunas, sendo que o valor por omissão é o valor mínimo igual a 1 e o valor máximo é 20. Se valores fora da faixa forem informados, eles devem ser modificados para valores dentro da faixa de forma elegante.\n",
    "\n"
   ]
  },
  {
   "cell_type": "code",
   "execution_count": 20,
   "metadata": {},
   "outputs": [
    {
     "name": "stdout",
     "output_type": "stream",
     "text": [
      "+------+\n",
      "|      |\n",
      "|      |\n",
      "|      |\n",
      "+------+\n"
     ]
    }
   ],
   "source": [
    "def desenha_moldura(linhas=1, colunas=1):\n",
    "    \"\"\"Desenha um retângulo com os caracteres +, - e |.\"\"\"\n",
    "    # Verifica se os valores de linhas e colunas estão dentro da faixa permitida\n",
    "    if linhas < 1 or linhas > 20:\n",
    "        linhas = 1\n",
    "    if colunas < 1 or colunas > 20:\n",
    "        colunas = 1\n",
    "\n",
    "    # Desenha a moldura\n",
    "    for i in range(linhas):\n",
    "        for j in range(colunas):\n",
    "            if i == 0 or i == linhas-1:\n",
    "                # Primeira e última linhas\n",
    "                if j == 0 or j == colunas-1:\n",
    "                    # Canto superior esquerdo, canto superior direito,\n",
    "                    # canto inferior esquerdo e canto inferior direito\n",
    "                    print('+', end='')\n",
    "                else:\n",
    "                    # Demais posições da primeira e última linhas\n",
    "                    print('-', end='')\n",
    "            else:\n",
    "                # Demais linhas\n",
    "                if j == 0 or j == colunas-1:\n",
    "                    # Primeira e última colunas\n",
    "                    print('|', end='')\n",
    "                else:\n",
    "                    # Demais posições\n",
    "                    print(' ', end='')\n",
    "        print()  # Pula para a próxima linha\n",
    "\n",
    "# Exemplo\n",
    "desenha_moldura(5, 8)"
   ]
  },
  {
   "cell_type": "markdown",
   "metadata": {},
   "source": [
    "14 - Quadrado mágico. Um quadrado mágico é aquele dividido em linhas e colunas, com um número em cada posição e no qual a soma das linhas, colunas e diagonais é a mesma. Por exemplo, veja um quadrado mágico de lado 3, com números de 1 a 9:\n",
    "\n",
    "    8  3  4 \n",
    "    1  5  9\n",
    "    6  7  2\n",
    "\n",
    "    Elabore uma função que identifica e mostra na tela todos os quadrados mágicos com as características acima. Dica: produza todas as combinações possíveis e verifique a soma quando completar cada quadrado. Usar um vetor de 1 a 9 parece ser mais simples que usar uma matriz 3x3. "
   ]
  },
  {
   "cell_type": "code",
   "execution_count": 3,
   "metadata": {},
   "outputs": [
    {
     "name": "stdout",
     "output_type": "stream",
     "text": [
      "Possibilidade 1:\n",
      "2 7 6\n",
      "9 5 1\n",
      "4 3 8\n",
      "\n",
      "Possibilidade 2:\n",
      "2 9 4\n",
      "7 5 3\n",
      "6 1 8\n",
      "\n",
      "Possibilidade 3:\n",
      "4 3 8\n",
      "9 5 1\n",
      "2 7 6\n",
      "\n",
      "Possibilidade 4:\n",
      "4 9 2\n",
      "3 5 7\n",
      "8 1 6\n",
      "\n",
      "Possibilidade 5:\n",
      "6 1 8\n",
      "7 5 3\n",
      "2 9 4\n",
      "\n",
      "Possibilidade 6:\n",
      "6 7 2\n",
      "1 5 9\n",
      "8 3 4\n",
      "\n",
      "Possibilidade 7:\n",
      "8 1 6\n",
      "3 5 7\n",
      "4 9 2\n",
      "\n",
      "Possibilidade 8:\n",
      "8 3 4\n",
      "1 5 9\n",
      "6 7 2\n",
      "\n",
      "Total de possibilidades: 8\n"
     ]
    }
   ],
   "source": [
    "# Definir uma função que verifica se uma lista de 9 números forma um quadrado mágico de lado 3\n",
    "def eh_quadrado_magico(lista):\n",
    "    # Verificar se a soma das linhas é igual a 15\n",
    "    if sum(lista[0:3]) != 15 or sum(lista[3:6]) != 15 or sum(lista[6:9]) != 15:\n",
    "        return False\n",
    "    # Verificar se a soma das colunas é igual a 15\n",
    "    if sum(lista[0::3]) != 15 or sum(lista[1::3]) != 15 or sum(lista[2::3]) != 15:\n",
    "        return False\n",
    "    # Verificar se a soma das diagonais é igual a 15\n",
    "    if sum(lista[0::4]) != 15 or sum(lista[2:7:2]) != 15:\n",
    "        return False\n",
    "    # Se todas as condições forem satisfeitas, retornar True\n",
    "    return True\n",
    "\n",
    "# Definir uma função que gera todas as permutações possíveis de uma lista usando recursão\n",
    "def gerar_permutacoes(lista):\n",
    "    # Se a lista tiver apenas um elemento, retornar uma lista com esse elemento\n",
    "    if len(lista) == 1:\n",
    "        return [lista]\n",
    "    # Senão, para cada elemento da lista, remover esse elemento e gerar as permutações do resto da lista\n",
    "    else:\n",
    "        permutacoes = []\n",
    "        for i in range(len(lista)):\n",
    "            elemento = lista[i]\n",
    "            resto = lista[:i] + lista[i+1:]\n",
    "            # Para cada permutação do resto da lista, adicionar o elemento no início e adicionar à lista de permutações\n",
    "            for p in gerar_permutacoes(resto):\n",
    "                permutacoes.append([elemento] + p)\n",
    "        # Retornar a lista de permutações\n",
    "        return permutacoes\n",
    "\n",
    "# Gerar todas as permutações possíveis de 1 a 9 usando a função gerar_permutacoes\n",
    "permutacoes = gerar_permutacoes(list(range(1,10)))\n",
    "\n",
    "# Inicializar uma variável para contar o número de quadrados mágicos encontrados\n",
    "contador = 0\n",
    "\n",
    "# Para cada permutação, verificar se ela forma um quadrado mágico e mostrar na tela se for o caso\n",
    "for p in permutacoes:\n",
    "    if eh_quadrado_magico(p):\n",
    "        # Incrementar o contador e mostrar o número da possibilidade na tela\n",
    "        contador += 1 \n",
    "        print(f\"Possibilidade {contador}:\")\n",
    "        # Mostrar o quadrado mágico na tela \n",
    "        print(f\"{p[0]} {p[1]} {p[2]}\\n{p[3]} {p[4]} {p[5]}\\n{p[6]} {p[7]} {p[8]}\\n\")\n",
    "\n",
    "# Mostrar o total de possibilidades encontradas na tela \n",
    "print(f\"Total de possibilidades encontradas: {contador}\")"
   ]
  }
 ],
 "metadata": {
  "kernelspec": {
   "display_name": "Python 3 (ipykernel)",
   "language": "python",
   "name": "python3"
  },
  "language_info": {
   "codemirror_mode": {
    "name": "ipython",
    "version": 3
   },
   "file_extension": ".py",
   "mimetype": "text/x-python",
   "name": "python",
   "nbconvert_exporter": "python",
   "pygments_lexer": "ipython3",
   "version": "3.9.13"
  },
  "vscode": {
   "interpreter": {
    "hash": "9e063f97f7c7606fa2ce489a30406c490d3f3064ffa56cd0e33b2669413601bf"
   }
  }
 },
 "nbformat": 4,
 "nbformat_minor": 2
}
