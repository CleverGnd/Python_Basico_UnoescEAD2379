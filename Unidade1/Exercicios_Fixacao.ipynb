{
 "cells": [
  {
   "cell_type": "markdown",
   "metadata": {},
   "source": [
    "# Unidade 1 - Introdução ao Phyton\n",
    "## Exercícios de Fixação\n",
    "\n",
    "### Exercícios Básicos\n",
    "Disponiveis em: https://wiki.python.org.br/EstruturaSequencial"
   ]
  },
  {
   "cell_type": "markdown",
   "metadata": {},
   "source": [
    "10 - Faça um Programa que peça a temperatura em graus Celsius, transforme e mostre em graus Fahrenheit. "
   ]
  },
  {
   "cell_type": "code",
   "execution_count": 1,
   "metadata": {},
   "outputs": [
    {
     "name": "stdout",
     "output_type": "stream",
     "text": [
      "A temperatura em graus Fahrenheit é: 50.0\n"
     ]
    }
   ],
   "source": [
    "# pedindo ao usuário a temperatura em Celsius\n",
    "celsius = float(input(\"Digite a temperatura em graus Celsius: \"))\n",
    "\n",
    "# fazendo a conversão de Celsius para Fahrenheit\n",
    "fahrenheit = (celsius * 1.8) + 32\n",
    "\n",
    "# mostrando o resultado da conversão na tela\n",
    "print(\"A temperatura em graus Fahrenheit é:\", fahrenheit)"
   ]
  },
  {
   "cell_type": "markdown",
   "metadata": {},
   "source": [
    "### Exercícios com o uso do condicional IF\n",
    "Disponiveis em: https://wiki.python.org.br/EstruturaDeDecisao"
   ]
  }
 ],
 "metadata": {
  "kernelspec": {
   "display_name": "Python 3 (ipykernel)",
   "language": "python",
   "name": "python3"
  },
  "language_info": {
   "codemirror_mode": {
    "name": "ipython",
    "version": 3
   },
   "file_extension": ".py",
   "mimetype": "text/x-python",
   "name": "python",
   "nbconvert_exporter": "python",
   "pygments_lexer": "ipython3",
   "version": "3.9.13"
  },
  "vscode": {
   "interpreter": {
    "hash": "9e063f97f7c7606fa2ce489a30406c490d3f3064ffa56cd0e33b2669413601bf"
   }
  }
 },
 "nbformat": 4,
 "nbformat_minor": 2
}
