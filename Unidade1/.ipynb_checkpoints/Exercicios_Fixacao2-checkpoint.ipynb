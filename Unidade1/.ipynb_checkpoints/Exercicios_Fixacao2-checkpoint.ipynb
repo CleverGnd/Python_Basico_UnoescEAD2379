{
 "cells": [
  {
   "cell_type": "markdown",
   "metadata": {},
   "source": [
    "# Unidade 1 - Introdução ao Phyton\n",
    "## Exercícios de Fixação\n",
    "Aluno: Cleverson Guandalin\n",
    "\n",
    "### Exercícios Básicos\n",
    "Disponiveis em: https://wiki.python.org.br/EstruturaSequencial"
   ]
  },
  {
   "cell_type": "markdown",
   "metadata": {},
   "source": [
    "10 - Faça um Programa que peça a temperatura em graus Celsius, transforme e mostre em graus Fahrenheit. "
   ]
  },
  {
   "cell_type": "code",
   "execution_count": 1,
   "metadata": {},
   "outputs": [
    {
     "name": "stdout",
     "output_type": "stream",
     "text": [
      "Digite a temperatura em graus Celsius: 30\n",
      "A temperatura em graus Fahrenheit é: 86.0\n"
     ]
    }
   ],
   "source": [
    "# pedindo ao usuário a temperatura em Celsius\n",
    "celsius = float(input(\"Digite a temperatura em graus Celsius: \"))\n",
    "\n",
    "# fazendo a conversão de Celsius para Fahrenheit\n",
    "fahrenheit = (celsius * 1.8) + 32\n",
    "\n",
    "# mostrando o resultado da conversão na tela\n",
    "print(\"A temperatura em graus Fahrenheit é:\", fahrenheit)"
   ]
  },
  {
   "cell_type": "markdown",
   "metadata": {},
   "source": [
    "11 - Faça um Programa que peça 2 números inteiros e um número real. Calcule e mostre:\n",
    "\n",
    "    a) o produto do dobro do primeiro com metade do segundo .\n",
    "    b) a soma do triplo do primeiro com o terceiro.\n",
    "    c) o terceiro elevado ao cubo. \n",
    "\n",
    " "
   ]
  },
  {
   "cell_type": "code",
   "execution_count": 3,
   "metadata": {},
   "outputs": [
    {
     "name": "stdout",
     "output_type": "stream",
     "text": [
      "Digite o primeiro número inteiro: 10\n",
      "Digite o segundo número inteiro: 2\n",
      "Digite o número real: 5.5\n",
      "O produto do dobro do primeiro com metade do segundo é: 20.0\n",
      "A soma do triplo do primeiro com o terceiro é: 35.5\n",
      "O terceiro elevado ao cubo é: 166.375\n"
     ]
    }
   ],
   "source": [
    "# Solicitando 2 numero inteiros e um número real\n",
    "num1 = int(input(\"Digite o primeiro número inteiro: \"))\n",
    "num2 = int(input(\"Digite o segundo número inteiro: \"))\n",
    "num3 = float(input(\"Digite o número real: \"))\n",
    "\n",
    "# produto do dobro do primeiro com metade do segundo\n",
    "resultado_a = (num1 * 2) * (num2 / 2)\n",
    "print(\"O produto do dobro do primeiro com metade do segundo é:\", resultado_a)\n",
    "\n",
    "# soma do triplo do primeiro com o terceiro\n",
    "resultado_b = (num1 * 3) + num3\n",
    "print(\"A soma do triplo do primeiro com o terceiro é:\", resultado_b)\n",
    "\n",
    "# terceiro elevado ao cubo\n",
    "resultado_c = num3 ** 3\n",
    "print(\"O terceiro elevado ao cubo é:\", resultado_c)"
   ]
  },
  {
   "cell_type": "markdown",
   "metadata": {},
   "source": [
    "12 - Tendo como dados de entrada a altura de uma pessoa, construa um algoritmo que calcule seu peso ideal, usando a seguinte fórmula: (72.7*altura) - 58\n",
    "\n"
   ]
  },
  {
   "cell_type": "code",
   "execution_count": 4,
   "metadata": {},
   "outputs": [
    {
     "name": "stdout",
     "output_type": "stream",
     "text": [
      "Digite a altura da pessoa: 1.80\n",
      "O peso ideal é: 72.86000000000001\n"
     ]
    }
   ],
   "source": [
    "# Solicita altura\n",
    "altura = float(input(\"Digite a altura da pessoa: \"))\n",
    "\n",
    "peso_ideal = (72.7 * altura) - 58\n",
    "\n",
    "# print do resultado\n",
    "print(\"O peso ideal é:\", peso_ideal)"
   ]
  },
  {
   "cell_type": "markdown",
   "metadata": {},
   "source": [
    "13 - Tendo como dado de entrada a altura (h) de uma pessoa, construa um algoritmo que calcule seu peso ideal, utilizando as seguintes fórmulas:\n",
    "\n",
    "    a) Para homens: (72.7*h) - 58\n",
    "    b) Para mulheres: (62.1*h) - 44.7 \n",
    "\n"
   ]
  },
  {
   "cell_type": "code",
   "execution_count": 6,
   "metadata": {},
   "outputs": [
    {
     "name": "stdout",
     "output_type": "stream",
     "text": [
      "Digite a altura da pessoa (em metros): 1.80\n",
      "Digite o gênero da pessoa (M para masculino e F para feminino): M\n",
      "O peso ideal é: 72.86000000000001\n"
     ]
    }
   ],
   "source": [
    "altura = float(input(\"Digite a altura da pessoa (em metros): \"))\n",
    "genero = input(\"Digite o gênero da pessoa (M para masculino e F para feminino): \")\n",
    "\n",
    "if genero == \"M\":\n",
    "  peso_ideal = (72.7 * altura) - 58\n",
    "elif genero == \"F\":\n",
    "  peso_ideal = (62.1 * altura) - 44.7\n",
    "else:\n",
    "  print(\"Gênero inválido.\")\n",
    "  peso_ideal = None\n",
    "\n",
    "if peso_ideal is not None:\n",
    "  print(\"O peso ideal é:\", peso_ideal)"
   ]
  },
  {
   "cell_type": "markdown",
   "metadata": {},
   "source": [
    "14 - João Papo-de-Pescador, homem de bem, comprou um microcomputador para controlar o rendimento diário de seu trabalho. Toda vez que ele traz um peso de peixes maior que o estabelecido pelo regulamento de pesca do estado de São Paulo (50 quilos) deve pagar uma multa de R$ 4,00 por quilo excedente. João precisa que você faça um programa que leia a variável peso (peso de peixes) e calcule o excesso. Gravar na variável excesso a quantidade de quilos além do limite e na variável multa o valor da multa que João deverá pagar. Imprima os dados do programa com as mensagens adequadas.\n",
    "\n"
   ]
  },
  {
   "cell_type": "code",
   "execution_count": null,
   "metadata": {},
   "outputs": [],
   "source": []
  },
  {
   "cell_type": "markdown",
   "metadata": {},
   "source": [
    "15 - Faça um Programa que pergunte quanto você ganha por hora e o número de horas trabalhadas no mês. Calcule e mostre o total do seu salário no referido mês, sabendo-se que são descontados 11% para o Imposto de Renda, 8% para o INSS e 5% para o sindicato, faça um programa que nos dê:\n",
    "\n",
    "    a) salário bruto.\n",
    "    b) quanto pagou ao INSS.\n",
    "    c) quanto pagou ao sindicato.\n",
    "    d) o salário líquido.\n",
    "    e) calcule os descontos e o salário líquido, conforme a tabela abaixo:\n",
    "\n",
    "    + Salário Bruto : R$\n",
    "    - IR (11%) : R$\n",
    "    - INSS (8%) : R$\n",
    "    - Sindicato ( 5%) : R$\n",
    "    = Salário Liquido : R$\n",
    "\n",
    "    Obs.: Salário Bruto - Descontos = Salário Líquido."
   ]
  },
  {
   "cell_type": "code",
   "execution_count": null,
   "metadata": {},
   "outputs": [],
   "source": []
  },
  {
   "cell_type": "markdown",
   "metadata": {},
   "source": [
    "### Exercícios com o uso do condicional IF\n",
    "Disponiveis em: https://wiki.python.org.br/EstruturaDeDecisao"
   ]
  },
  {
   "cell_type": "markdown",
   "metadata": {},
   "source": [
    "10 - Faça um Programa que pergunte em que turno você estuda. Peça para digitar M-matutino ou V-Vespertino ou N- Noturno. Imprima a mensagem \"Bom Dia!\", \"Boa Tarde!\" ou \"Boa Noite!\" ou \"Valor Inválido!\", conforme o caso.\n"
   ]
  },
  {
   "cell_type": "code",
   "execution_count": null,
   "metadata": {},
   "outputs": [],
   "source": []
  },
  {
   "cell_type": "markdown",
   "metadata": {},
   "source": [
    "11 - As Organizações Tabajara resolveram dar um aumento de salário aos seus colaboradores e lhe contraram para desenvolver o programa que calculará os reajustes.\n",
    "\n",
    "    Faça um programa que recebe o salário de um colaborador e o reajuste segundo o seguinte critério, baseado no salário atual:\n",
    "    - salários até R$ 280,00 (incluindo) : aumento de 20%\n",
    "    - salários entre R$ 280,00 e R$ 700,00 : aumento de 15%\n",
    "    - salários entre R$ 700,00 e R$ 1500,00 : aumento de 10%\n",
    "    - salários de R$ 1500,00 em diante : aumento de 5% Após o aumento ser realizado, informe na tela:\n",
    "    - o salário antes do reajuste;\n",
    "    - o percentual de aumento aplicado;\n",
    "    - o valor do aumento;\n",
    "    - o novo salário, após o aumento. \n",
    "\n"
   ]
  },
  {
   "cell_type": "code",
   "execution_count": null,
   "metadata": {},
   "outputs": [],
   "source": []
  },
  {
   "cell_type": "markdown",
   "metadata": {},
   "source": [
    "12 - Faça um programa para o cálculo de uma folha de pagamento, sabendo que os descontos são do Imposto de Renda, que depende do salário bruto (conforme tabela abaixo) e 3% para o Sindicato e que o FGTS corresponde a 11% do Salário Bruto, mas não é descontado (é a empresa que deposita). O Salário Líquido corresponde ao Salário Bruto menos os descontos. O programa deverá pedir ao usuário o valor da sua hora e a quantidade de horas trabalhadas no mês.\n",
    "\n",
    "    Desconto do IR:\n",
    "    - Salário Bruto até 900 (inclusive) - isento\n",
    "    - Salário Bruto até 1500 (inclusive) - desconto de 5%\n",
    "    - Salário Bruto até 2500 (inclusive) - desconto de 10%\n",
    "    - Salário Bruto acima de 2500 - desconto de 20% Imprima na tela as informações, dispostas conforme o exemplo abaixo. No exemplo o valor da hora é 5 e a quantidade de hora é 220.\n",
    "\n",
    "            Salário Bruto: (5 * 220)        : R$ 1100,00\n",
    "        (-) IR (5%)                     : R$   55,00  \n",
    "            (-) INSS ( 10%)                 : R$  110,00\n",
    "        FGTS (11%)                      : R$  121,00\n",
    "            Total de descontos              : R$  165,00\n",
    "        Salário Liquido                 : R$  935,00\n"
   ]
  },
  {
   "cell_type": "code",
   "execution_count": null,
   "metadata": {},
   "outputs": [],
   "source": []
  },
  {
   "cell_type": "markdown",
   "metadata": {},
   "source": [
    "13 - Faça um Programa que leia um número e exiba o dia correspondente da semana. (1-Domingo, 2- Segunda, etc.), se digitar outro valor deve aparecer valor inválido.\n"
   ]
  },
  {
   "cell_type": "code",
   "execution_count": null,
   "metadata": {},
   "outputs": [],
   "source": []
  },
  {
   "cell_type": "markdown",
   "metadata": {},
   "source": [
    "14 - Faça um programa que lê as duas notas parciais obtidas por um aluno numa disciplina ao longo de um semestre, e calcule a sua média. A atribuição de conceitos obedece à tabela abaixo:\n",
    "\n",
    "      Média de Aproveitamento  Conceito\n",
    "      Entre 9.0 e 10.0        A\n",
    "      Entre 7.5 e 9.0         B\n",
    "      Entre 6.0 e 7.5         C\n",
    "      Entre 4.0 e 6.0         D\n",
    "      Entre 4.0 e zero        E\n",
    "\n",
    "    O algoritmo deve mostrar na tela as notas, a média, o conceito correspondente e a mensagem “APROVADO” se o conceito for A, B ou C ou “REPROVADO” se o conceito for D ou E. \n",
    "\n"
   ]
  },
  {
   "cell_type": "code",
   "execution_count": null,
   "metadata": {},
   "outputs": [],
   "source": []
  },
  {
   "cell_type": "markdown",
   "metadata": {},
   "source": [
    "15 - Faça um Programa que peça os 3 lados de um triângulo. O programa deverá informar se os valores podem ser um triângulo. Indique, caso os lados formem um triângulo, se o mesmo é: equilátero, isósceles ou escaleno.\n",
    "\n",
    "    Dicas:\n",
    "    Três lados formam um triângulo quando a soma de quaisquer dois lados for maior que o terceiro;\n",
    "    Triângulo Equilátero: três lados iguais;\n",
    "    Triângulo Isósceles: quaisquer dois lados iguais;\n",
    "    Triângulo Escaleno: três lados diferentes; "
   ]
  },
  {
   "cell_type": "code",
   "execution_count": null,
   "metadata": {},
   "outputs": [],
   "source": []
  }
 ],
 "metadata": {
  "kernelspec": {
   "display_name": "Python 3 (ipykernel)",
   "language": "python",
   "name": "python3"
  },
  "language_info": {
   "codemirror_mode": {
    "name": "ipython",
    "version": 3
   },
   "file_extension": ".py",
   "mimetype": "text/x-python",
   "name": "python",
   "nbconvert_exporter": "python",
   "pygments_lexer": "ipython3",
   "version": "3.9.13"
  },
  "vscode": {
   "interpreter": {
    "hash": "9e063f97f7c7606fa2ce489a30406c490d3f3064ffa56cd0e33b2669413601bf"
   }
  }
 },
 "nbformat": 4,
 "nbformat_minor": 2
}
